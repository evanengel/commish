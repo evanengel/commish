{
 "cells": [
  {
   "cell_type": "code",
   "execution_count": 88,
   "metadata": {},
   "outputs": [],
   "source": [
    "import numpy as np"
   ]
  },
  {
   "cell_type": "code",
   "execution_count": 115,
   "metadata": {},
   "outputs": [],
   "source": [
    "# Player list & number of balls\n",
    "players = {\n",
    "    'Baxter': 21,\n",
    "    'Calvin': 73.37,\n",
    "    'Carl': 21,\n",
    "    'Clare': 21,\n",
    "    'Dom': 61,\n",
    "    'Evan': 271,\n",
    "    'Gabe': 21,\n",
    "    'Jack': 21,\n",
    "    'Jaqueline': 21,\n",
    "    'Kathleen': 121,\n",
    "    'Katie': 1,\n",
    "    'Kelly': 1,\n",
    "    'Nic': 21,\n",
    "    'Rowan': 21,\n",
    "}"
   ]
  },
  {
   "cell_type": "code",
   "execution_count": 124,
   "metadata": {},
   "outputs": [],
   "source": [
    "def select_all_players(players):\n",
    "    np.random.seed(seed=80085) # Fix seed for final draw\n",
    "    \n",
    "    names = list(players.keys())\n",
    "    balls = list(players.values())\n",
    "    \n",
    "    total_balls = sum(balls)\n",
    "    weights = [x/total_balls for x in balls]\n",
    "    \n",
    "    order = np.random.choice(a = names, size = len(names), p = weights, replace = False)\n",
    "    \n",
    "    return order"
   ]
  },
  {
   "cell_type": "code",
   "execution_count": 126,
   "metadata": {},
   "outputs": [
    {
     "name": "stdout",
     "output_type": "stream",
     "text": [
      "1. Evan\n",
      "2. Baxter\n",
      "3. Kathleen\n",
      "4. Katie\n",
      "5. Carl\n",
      "6. Dom\n",
      "7. Nic\n",
      "8. Rowan\n",
      "9. Jaqueline\n",
      "10. Jack\n",
      "11. Calvin\n",
      "12. Gabe\n",
      "13. Clare\n",
      "14. Kelly\n"
     ]
    }
   ],
   "source": [
    "order = select_all_players(players)\n",
    "for pick, name in enumerate(order):\n",
    "    print(f'{pick + 1}. {name}')"
   ]
  },
  {
   "cell_type": "markdown",
   "metadata": {},
   "source": [
    "### Validation"
   ]
  },
  {
   "cell_type": "code",
   "execution_count": 122,
   "metadata": {},
   "outputs": [],
   "source": [
    "# TEST\n",
    "\n",
    "n = 10000\n",
    "\n",
    "results = { i : 0 for i in list(players.keys()) }\n",
    "\n",
    "for i in range(n):\n",
    "    order = select_all_players(players)\n",
    "    results = { j : results[j] + order.tolist().index(j) + 1 for j in order }"
   ]
  },
  {
   "cell_type": "code",
   "execution_count": 123,
   "metadata": {},
   "outputs": [
    {
     "name": "stdout",
     "output_type": "stream",
     "text": [
      "{'Baxter': 7.9589, 'Calvin': 4.7158, 'Carl': 7.8944, 'Clare': 7.9058, 'Dom': 5.1146, 'Evan': 2.2844, 'Gabe': 7.8969, 'Jack': 7.9029, 'Jaqueline': 7.8377, 'Kathleen': 3.5722, 'Katie': 13.1157, 'Kelly': 13.0696, 'Nic': 7.8721, 'Rowan': 7.859}\n",
      "[0.030156382382928615, 0.10536065597311775, 0.030156382382928615, 0.030156382382928615, 0.08759711073136407, 0.3891609345606502, 0.030156382382928615, 0.030156382382928615, 0.030156382382928615, 0.17375820325401725, 0.0014360182087108865, 0.0014360182087108865, 0.030156382382928615, 0.030156382382928615]\n"
     ]
    }
   ],
   "source": [
    "# Average Results\n",
    "\n",
    "names = list(players.keys())\n",
    "balls = list(players.values())\n",
    "\n",
    "total_balls = sum(balls)\n",
    "weights = [x/total_balls for x in balls]\n",
    "pcts = { i : results[i]/n for i in names }\n",
    "print(pcts)\n",
    "print(weights)"
   ]
  },
  {
   "cell_type": "code",
   "execution_count": null,
   "metadata": {},
   "outputs": [],
   "source": []
  }
 ],
 "metadata": {
  "kernelspec": {
   "display_name": "Python 3",
   "language": "python",
   "name": "python3"
  },
  "language_info": {
   "codemirror_mode": {
    "name": "ipython",
    "version": 3
   },
   "file_extension": ".py",
   "mimetype": "text/x-python",
   "name": "python",
   "nbconvert_exporter": "python",
   "pygments_lexer": "ipython3",
   "version": "3.7.3"
  }
 },
 "nbformat": 4,
 "nbformat_minor": 2
}
